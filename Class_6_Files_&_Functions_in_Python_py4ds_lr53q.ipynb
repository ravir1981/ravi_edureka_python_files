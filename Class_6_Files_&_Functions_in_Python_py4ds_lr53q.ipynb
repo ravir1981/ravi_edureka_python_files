{
  "nbformat": 4,
  "nbformat_minor": 0,
  "metadata": {
    "colab": {
      "name": "Class 6 - Files & Functions in Python - py4ds.ipynb",
      "provenance": [],
      "collapsed_sections": []
    },
    "kernelspec": {
      "name": "python3",
      "display_name": "Python 3"
    },
    "language_info": {
      "name": "python"
    }
  },
  "cells": [
    {
      "cell_type": "markdown",
      "source": [
        "# Work with Files\n",
        "\n",
        "## Create or Open with `open()`\n",
        "\n",
        "We have to call the `open` function before we perform the following tasks:\n",
        "* Read an existing file\n",
        "* Write to a new file\n",
        "* Append to an existing file\n",
        "* Overwrite an existing file\n",
        "\n",
        "*fileobj = open(filename,mode)*\n",
        "\n",
        "- fileobj - file object returned by `open()`\n",
        "- filename - String name of the file\n",
        "- mode - string indicating the file's type and what we want to perform\n",
        "\n",
        "\n",
        "First Letter of *mode* indicates the operation :\n",
        "* **r** means read\n",
        "* **w** means write. If the file doesn't exist, it will be creted. If already exists it will be over-written\n",
        "* **x** means write, but only if file doesn't exist\n",
        "* **a** means append (write after the nd) if the file exists.\n",
        "\n",
        "Second letter of *mode* is file's type:\n",
        "- **t** (or nothing) means text\n",
        "- **b** means binary\n",
        "\n",
        "*close* the file once write is complete."
      ],
      "metadata": {
        "id": "NEkz9ask9QR1"
      }
    },
    {
      "cell_type": "code",
      "execution_count": 1,
      "metadata": {
        "id": "LJnCVw6Z804o"
      },
      "outputs": [],
      "source": [
        "fileobj = open(\"example.txt\",\"wt\")\n",
        "fileobj.close()"
      ]
    },
    {
      "cell_type": "code",
      "source": [
        "multi_string = \"\"\" Jack Jill went up the hill\n",
        "to fetch water\n",
        "jack fell down\n",
        "jill tumbling after.. \"\"\""
      ],
      "metadata": {
        "id": "0JkMKs6P98hU"
      },
      "execution_count": 2,
      "outputs": []
    },
    {
      "cell_type": "code",
      "source": [
        "fileobj = open(\"example.txt\",\"w\")\n",
        "fileobj.write(multi_string)"
      ],
      "metadata": {
        "colab": {
          "base_uri": "https://localhost:8080/"
        },
        "id": "363tkw6u-P7C",
        "outputId": "09df939f-3eb8-4956-f320-4f060a033e27"
      },
      "execution_count": 16,
      "outputs": [
        {
          "output_type": "execute_result",
          "data": {
            "text/plain": [
              "80"
            ]
          },
          "metadata": {},
          "execution_count": 16
        }
      ]
    },
    {
      "cell_type": "code",
      "source": [
        "len(multi_string)"
      ],
      "metadata": {
        "colab": {
          "base_uri": "https://localhost:8080/"
        },
        "id": "s9KHuI94-W0u",
        "outputId": "0cd49129-2da9-48c5-d70e-8864d632a451"
      },
      "execution_count": 17,
      "outputs": [
        {
          "output_type": "execute_result",
          "data": {
            "text/plain": [
              "80"
            ]
          },
          "metadata": {},
          "execution_count": 17
        }
      ]
    },
    {
      "cell_type": "code",
      "source": [
        "fileobj.close()"
      ],
      "metadata": {
        "id": "hU_5rwnB-aW_"
      },
      "execution_count": 18,
      "outputs": []
    },
    {
      "cell_type": "code",
      "source": [
        "ex_str = \"\"\" Welcome to the class\n",
        "of data science wiht\n",
        "python \"\"\"\n",
        "f = open(\"example.txt\",\"wt\")\n",
        "f.write(ex_str)\n",
        "f.close()"
      ],
      "metadata": {
        "id": "4IKct4cw-hbl"
      },
      "execution_count": 7,
      "outputs": []
    },
    {
      "cell_type": "code",
      "source": [
        "f = open(\"example.txt\",\"rt\")\n",
        "f.readlines()"
      ],
      "metadata": {
        "colab": {
          "base_uri": "https://localhost:8080/"
        },
        "id": "Qi3w72nA-0M7",
        "outputId": "cf914480-434a-40d5-f9e8-8d9d23c484b1"
      },
      "execution_count": 8,
      "outputs": [
        {
          "output_type": "execute_result",
          "data": {
            "text/plain": [
              "[' Welcome to the class\\n', 'of data science wiht\\n', 'python ']"
            ]
          },
          "metadata": {},
          "execution_count": 8
        }
      ]
    },
    {
      "cell_type": "code",
      "source": [
        "f.close()"
      ],
      "metadata": {
        "id": "fqskqL0y_IWc"
      },
      "execution_count": 9,
      "outputs": []
    },
    {
      "cell_type": "code",
      "source": [
        "f = open(\"example.txt\",\"xt\")"
      ],
      "metadata": {
        "colab": {
          "base_uri": "https://localhost:8080/",
          "height": 170
        },
        "id": "bSv3MjA8_Mh6",
        "outputId": "d6a63f34-d263-4b00-86a4-7676c252e538"
      },
      "execution_count": 10,
      "outputs": [
        {
          "output_type": "error",
          "ename": "FileExistsError",
          "evalue": "ignored",
          "traceback": [
            "\u001b[0;31m---------------------------------------------------------------------------\u001b[0m",
            "\u001b[0;31mFileExistsError\u001b[0m                           Traceback (most recent call last)",
            "\u001b[0;32m<ipython-input-10-53512d7a9747>\u001b[0m in \u001b[0;36m<module>\u001b[0;34m()\u001b[0m\n\u001b[0;32m----> 1\u001b[0;31m \u001b[0mf\u001b[0m \u001b[0;34m=\u001b[0m \u001b[0mopen\u001b[0m\u001b[0;34m(\u001b[0m\u001b[0;34m\"example.txt\"\u001b[0m\u001b[0;34m,\u001b[0m\u001b[0;34m\"xt\"\u001b[0m\u001b[0;34m)\u001b[0m\u001b[0;34m\u001b[0m\u001b[0;34m\u001b[0m\u001b[0m\n\u001b[0m",
            "\u001b[0;31mFileExistsError\u001b[0m: [Errno 17] File exists: 'example.txt'"
          ]
        }
      ]
    },
    {
      "cell_type": "code",
      "source": [
        "f = open(\"example.txt\",\"at\")\n",
        "f.write(\"new text\")\n",
        "f.close()"
      ],
      "metadata": {
        "id": "c_rxWPfm_kJc"
      },
      "execution_count": 11,
      "outputs": []
    },
    {
      "cell_type": "code",
      "source": [
        "f = open(\"example.txt\",\"rt\")\n",
        "f.readlines()"
      ],
      "metadata": {
        "colab": {
          "base_uri": "https://localhost:8080/"
        },
        "id": "ZJeS9m7m_2nr",
        "outputId": "62303433-4013-4955-cf22-c7db86e7e51e"
      },
      "execution_count": 12,
      "outputs": [
        {
          "output_type": "execute_result",
          "data": {
            "text/plain": [
              "[' Welcome to the class\\n', 'of data science wiht\\n', 'python new text']"
            ]
          },
          "metadata": {},
          "execution_count": 12
        }
      ]
    },
    {
      "cell_type": "code",
      "source": [
        "f.close()"
      ],
      "metadata": {
        "id": "ePAw47NgAXw-"
      },
      "execution_count": 13,
      "outputs": []
    },
    {
      "cell_type": "code",
      "source": [
        "import shutil"
      ],
      "metadata": {
        "id": "sQHGmTaFAZZ7"
      },
      "execution_count": 19,
      "outputs": []
    },
    {
      "cell_type": "code",
      "source": [
        "shutil.copy('example.txt','example2.txt')"
      ],
      "metadata": {
        "colab": {
          "base_uri": "https://localhost:8080/",
          "height": 36
        },
        "id": "EG-T5mXMB3nM",
        "outputId": "e5c34ccb-9553-4f17-fb2d-bc62caa3ac19"
      },
      "execution_count": 20,
      "outputs": [
        {
          "output_type": "execute_result",
          "data": {
            "text/plain": [
              "'example2.txt'"
            ],
            "application/vnd.google.colaboratory.intrinsic+json": {
              "type": "string"
            }
          },
          "metadata": {},
          "execution_count": 20
        }
      ]
    },
    {
      "cell_type": "code",
      "source": [
        "f.close()"
      ],
      "metadata": {
        "id": "R-3DI0izCgh4"
      },
      "execution_count": 25,
      "outputs": []
    },
    {
      "cell_type": "code",
      "source": [
        "f = open(\"example.txt\",\"at\")\n",
        "f.write(\"new text\")\n",
        "f.close()"
      ],
      "metadata": {
        "id": "57Js-ceACDf1"
      },
      "execution_count": 23,
      "outputs": []
    },
    {
      "cell_type": "code",
      "source": [
        "f = open(\"example.txt\",\"rt\")\n",
        "f.readlines()"
      ],
      "metadata": {
        "colab": {
          "base_uri": "https://localhost:8080/"
        },
        "id": "HKuY4oZ6Cawv",
        "outputId": "6ba37469-9cd2-4155-8258-f9737ddb6c4e"
      },
      "execution_count": 27,
      "outputs": [
        {
          "output_type": "execute_result",
          "data": {
            "text/plain": [
              "[' Jack Jill went up the hill\\n',\n",
              " 'to fetch water\\n',\n",
              " 'jack fell down\\n',\n",
              " 'jill tumbling after.. new textnew text']"
            ]
          },
          "metadata": {},
          "execution_count": 27
        }
      ]
    },
    {
      "cell_type": "code",
      "source": [
        "f = open(\"example.txt\",\"at\")\n",
        "f.write(\" new text\")\n",
        "f.close()"
      ],
      "metadata": {
        "id": "zqvhR_3xCdQn"
      },
      "execution_count": 28,
      "outputs": []
    },
    {
      "cell_type": "code",
      "source": [
        "f = open(\"example.txt\",\"rt\")\n",
        "f.readlines()"
      ],
      "metadata": {
        "colab": {
          "base_uri": "https://localhost:8080/"
        },
        "id": "LK0KtQpWCwO_",
        "outputId": "b59cd619-5cec-4132-e3b1-0e2ed837433f"
      },
      "execution_count": 29,
      "outputs": [
        {
          "output_type": "execute_result",
          "data": {
            "text/plain": [
              "[' Jack Jill went up the hill\\n',\n",
              " 'to fetch water\\n',\n",
              " 'jack fell down\\n',\n",
              " 'jill tumbling after.. new textnew text new text']"
            ]
          },
          "metadata": {},
          "execution_count": 29
        }
      ]
    },
    {
      "cell_type": "code",
      "source": [
        "!wget https://raw.githubusercontent.com/nachikethmurthy/Source-Code-Dataset-for-Machine-Learning-using-Python/main/Data/Earnings%20Manipulation%20220.csv"
      ],
      "metadata": {
        "colab": {
          "base_uri": "https://localhost:8080/"
        },
        "id": "7sz84ncECw8q",
        "outputId": "48e5b158-9887-4508-dcd5-8e8714a44b5c"
      },
      "execution_count": 30,
      "outputs": [
        {
          "output_type": "stream",
          "name": "stdout",
          "text": [
            "--2022-07-25 15:49:34--  https://raw.githubusercontent.com/nachikethmurthy/Source-Code-Dataset-for-Machine-Learning-using-Python/main/Data/Earnings%20Manipulation%20220.csv\n",
            "Resolving raw.githubusercontent.com (raw.githubusercontent.com)... 185.199.108.133, 185.199.109.133, 185.199.110.133, ...\n",
            "Connecting to raw.githubusercontent.com (raw.githubusercontent.com)|185.199.108.133|:443... connected.\n",
            "HTTP request sent, awaiting response... 200 OK\n",
            "Length: 24486 (24K) [text/plain]\n",
            "Saving to: ‘Earnings Manipulation 220.csv’\n",
            "\n",
            "\r          Earnings    0%[                    ]       0  --.-KB/s               \rEarnings Manipulati 100%[===================>]  23.91K  --.-KB/s    in 0.001s  \n",
            "\n",
            "2022-07-25 15:49:34 (18.5 MB/s) - ‘Earnings Manipulation 220.csv’ saved [24486/24486]\n",
            "\n"
          ]
        }
      ]
    },
    {
      "cell_type": "code",
      "source": [
        "fileobj = open(\"/content/Earnings Manipulation 220.csv\", 'rt')\n",
        "fileobj.readlines()"
      ],
      "metadata": {
        "id": "GfM0woYYDJsM"
      },
      "execution_count": null,
      "outputs": []
    },
    {
      "cell_type": "code",
      "source": [
        "fileobj.close()"
      ],
      "metadata": {
        "id": "eCPkkuyaDSjE"
      },
      "execution_count": 32,
      "outputs": []
    },
    {
      "cell_type": "markdown",
      "source": [
        "# List Comprehension"
      ],
      "metadata": {
        "id": "SdTN5STAD8js"
      }
    },
    {
      "cell_type": "code",
      "source": [
        "l1 = [1,2,3,4,5,6,7,8,9,10]\n",
        "result = []\n",
        "\n",
        "for element in l1:\n",
        "  result.append(element*2)\n",
        "print(result)"
      ],
      "metadata": {
        "colab": {
          "base_uri": "https://localhost:8080/"
        },
        "id": "Q-k_gFR-DxqI",
        "outputId": "f99f8ad1-3e5d-4473-8056-a69a8b5084fb"
      },
      "execution_count": 33,
      "outputs": [
        {
          "output_type": "stream",
          "name": "stdout",
          "text": [
            "[2, 4, 6, 8, 10, 12, 14, 16, 18, 20]\n"
          ]
        }
      ]
    },
    {
      "cell_type": "markdown",
      "source": [
        "### Syntax:\n",
        "\n",
        "```python\n",
        "\n",
        "[expression for value in sequence]\n",
        "````"
      ],
      "metadata": {
        "id": "ypperfmtESTU"
      }
    },
    {
      "cell_type": "code",
      "source": [
        "[v*2 for v in l1]"
      ],
      "metadata": {
        "colab": {
          "base_uri": "https://localhost:8080/"
        },
        "id": "j_-bmxUHEL7q",
        "outputId": "8aa3d7fd-f8f4-42bb-b506-3f101455d5ee"
      },
      "execution_count": 34,
      "outputs": [
        {
          "output_type": "execute_result",
          "data": {
            "text/plain": [
              "[2, 4, 6, 8, 10, 12, 14, 16, 18, 20]"
            ]
          },
          "metadata": {},
          "execution_count": 34
        }
      ]
    },
    {
      "cell_type": "code",
      "source": [
        "result = [v*v for v in l1]\n",
        "result"
      ],
      "metadata": {
        "colab": {
          "base_uri": "https://localhost:8080/"
        },
        "id": "Gx0f4iRTEgzI",
        "outputId": "8b17611c-9c24-4484-e862-f6dfcfc3e3fe"
      },
      "execution_count": 35,
      "outputs": [
        {
          "output_type": "execute_result",
          "data": {
            "text/plain": [
              "[1, 4, 9, 16, 25, 36, 49, 64, 81, 100]"
            ]
          },
          "metadata": {},
          "execution_count": 35
        }
      ]
    },
    {
      "cell_type": "markdown",
      "source": [
        "# Functions in Python"
      ],
      "metadata": {
        "id": "bQrEKM0AFCBv"
      }
    },
    {
      "cell_type": "code",
      "source": [
        "#function() # function\n",
        "print(\"value\")"
      ],
      "metadata": {
        "colab": {
          "base_uri": "https://localhost:8080/"
        },
        "id": "4bClRUNbE5AR",
        "outputId": "7a24fc5d-7f11-4221-e2ed-d53f7a5d60d7"
      },
      "execution_count": 40,
      "outputs": [
        {
          "output_type": "stream",
          "name": "stdout",
          "text": [
            "value\n"
          ]
        }
      ]
    },
    {
      "cell_type": "code",
      "source": [
        "len(l1)"
      ],
      "metadata": {
        "colab": {
          "base_uri": "https://localhost:8080/"
        },
        "id": "rHIJ_x88F7-o",
        "outputId": "15878127-9b81-4245-cd72-559ca42b5bf3"
      },
      "execution_count": 41,
      "outputs": [
        {
          "output_type": "execute_result",
          "data": {
            "text/plain": [
              "10"
            ]
          },
          "metadata": {},
          "execution_count": 41
        }
      ]
    },
    {
      "cell_type": "code",
      "source": [
        "def Example():\n",
        "  print(\"good morning\")\n",
        "  print(\"welcome to the edureka\")\n",
        "  print(\"Python Programming\")"
      ],
      "metadata": {
        "id": "yHAk_P-uGA5_"
      },
      "execution_count": 42,
      "outputs": []
    },
    {
      "cell_type": "code",
      "source": [
        "Example() # invoke a function"
      ],
      "metadata": {
        "colab": {
          "base_uri": "https://localhost:8080/"
        },
        "id": "m77DqYQwG2HZ",
        "outputId": "9fd0892e-e932-43e1-fff8-a5a095cc72f2"
      },
      "execution_count": 43,
      "outputs": [
        {
          "output_type": "stream",
          "name": "stdout",
          "text": [
            "good morning\n",
            "welcome to the edureka\n",
            "Python Programming\n"
          ]
        }
      ]
    },
    {
      "cell_type": "code",
      "source": [
        "def Example2(name):\n",
        "  print(f\"Good morning {name}\")"
      ],
      "metadata": {
        "id": "vM4V_mLxHAcp"
      },
      "execution_count": 47,
      "outputs": []
    },
    {
      "cell_type": "code",
      "source": [
        "Example2(\"Akshay\")"
      ],
      "metadata": {
        "colab": {
          "base_uri": "https://localhost:8080/"
        },
        "id": "rcrJ82bHHPH3",
        "outputId": "836de700-8dcd-40b6-a359-30146add53e1"
      },
      "execution_count": 45,
      "outputs": [
        {
          "output_type": "stream",
          "name": "stdout",
          "text": [
            "Good morning Akshay\n"
          ]
        }
      ]
    },
    {
      "cell_type": "code",
      "source": [
        "Example2()"
      ],
      "metadata": {
        "colab": {
          "base_uri": "https://localhost:8080/",
          "height": 170
        },
        "id": "ZBlHyXJFHT4A",
        "outputId": "0f845bdf-407f-4a83-9da0-4acad380a977"
      },
      "execution_count": 46,
      "outputs": [
        {
          "output_type": "error",
          "ename": "TypeError",
          "evalue": "ignored",
          "traceback": [
            "\u001b[0;31m---------------------------------------------------------------------------\u001b[0m",
            "\u001b[0;31mTypeError\u001b[0m                                 Traceback (most recent call last)",
            "\u001b[0;32m<ipython-input-46-2a61e271e1f6>\u001b[0m in \u001b[0;36m<module>\u001b[0;34m()\u001b[0m\n\u001b[0;32m----> 1\u001b[0;31m \u001b[0mExample2\u001b[0m\u001b[0;34m(\u001b[0m\u001b[0;34m)\u001b[0m\u001b[0;34m\u001b[0m\u001b[0;34m\u001b[0m\u001b[0m\n\u001b[0m",
            "\u001b[0;31mTypeError\u001b[0m: Example2() missing 1 required positional argument: 'name'"
          ]
        }
      ]
    },
    {
      "cell_type": "code",
      "source": [
        "def Example2(name):\n",
        "  print(\"Good morning\", name)"
      ],
      "metadata": {
        "id": "d-J8-HKbHeLB"
      },
      "execution_count": 48,
      "outputs": []
    },
    {
      "cell_type": "code",
      "source": [
        "Example2(\"aditya\")"
      ],
      "metadata": {
        "colab": {
          "base_uri": "https://localhost:8080/"
        },
        "id": "vw9geG-NIB6D",
        "outputId": "54e84c46-e276-4df2-e049-34746f277f2a"
      },
      "execution_count": 49,
      "outputs": [
        {
          "output_type": "stream",
          "name": "stdout",
          "text": [
            "Good morning aditya\n"
          ]
        }
      ]
    },
    {
      "cell_type": "code",
      "source": [
        "def Example3(name):\n",
        "  \"\"\"This function gets input from user and perform sum \"\"\"\n",
        "  print(\"Good morning\", name)"
      ],
      "metadata": {
        "id": "tFzzyF-yIDo1"
      },
      "execution_count": 50,
      "outputs": []
    },
    {
      "cell_type": "code",
      "source": [
        "Example3(\"Aditya\")"
      ],
      "metadata": {
        "colab": {
          "base_uri": "https://localhost:8080/"
        },
        "id": "9SE1kVOpIMNB",
        "outputId": "cd118ef0-9999-49ac-84a6-66084d0ea705"
      },
      "execution_count": 51,
      "outputs": [
        {
          "output_type": "stream",
          "name": "stdout",
          "text": [
            "Good morning Aditya\n"
          ]
        }
      ]
    },
    {
      "cell_type": "code",
      "source": [
        "Example3()"
      ],
      "metadata": {
        "id": "8d_dqEbCINzX"
      },
      "execution_count": null,
      "outputs": []
    },
    {
      "cell_type": "code",
      "source": [
        "def add(x,y):\n",
        "  print(x+y)"
      ],
      "metadata": {
        "id": "B3OpCsaBIVHh"
      },
      "execution_count": 52,
      "outputs": []
    },
    {
      "cell_type": "code",
      "source": [
        "add(5,2)"
      ],
      "metadata": {
        "colab": {
          "base_uri": "https://localhost:8080/"
        },
        "id": "oRnUJbwmIag3",
        "outputId": "b8343a38-347f-43d3-90c4-83869bcfbaed"
      },
      "execution_count": 53,
      "outputs": [
        {
          "output_type": "stream",
          "name": "stdout",
          "text": [
            "7\n"
          ]
        }
      ]
    },
    {
      "cell_type": "code",
      "source": [
        "result = add(5,2)"
      ],
      "metadata": {
        "colab": {
          "base_uri": "https://localhost:8080/"
        },
        "id": "ppxxuNQWIbsg",
        "outputId": "df17592d-2953-4d23-d7fc-7512aef42fd8"
      },
      "execution_count": 54,
      "outputs": [
        {
          "output_type": "stream",
          "name": "stdout",
          "text": [
            "7\n"
          ]
        }
      ]
    },
    {
      "cell_type": "code",
      "source": [
        "print(result)"
      ],
      "metadata": {
        "colab": {
          "base_uri": "https://localhost:8080/"
        },
        "id": "oPsqb5UFIiHo",
        "outputId": "e3f44c8a-4a17-4ca2-d529-a870a1505c20"
      },
      "execution_count": 55,
      "outputs": [
        {
          "output_type": "stream",
          "name": "stdout",
          "text": [
            "None\n"
          ]
        }
      ]
    },
    {
      "cell_type": "code",
      "source": [
        "def add(x,y):\n",
        "  return (x+y)"
      ],
      "metadata": {
        "id": "ItxgdyNUIlQN"
      },
      "execution_count": 56,
      "outputs": []
    },
    {
      "cell_type": "code",
      "source": [
        "result = add(5,2)"
      ],
      "metadata": {
        "id": "s-LyTrdFIwa7"
      },
      "execution_count": 57,
      "outputs": []
    },
    {
      "cell_type": "code",
      "source": [
        "print(result)"
      ],
      "metadata": {
        "colab": {
          "base_uri": "https://localhost:8080/"
        },
        "id": "HZmGNUEhI0-T",
        "outputId": "5a37ae62-6631-4dc2-e62e-8f8a985e69ac"
      },
      "execution_count": 58,
      "outputs": [
        {
          "output_type": "stream",
          "name": "stdout",
          "text": [
            "7\n"
          ]
        }
      ]
    },
    {
      "cell_type": "code",
      "source": [
        "def add(x,y):\n",
        "  s = x+y\n",
        "  return s"
      ],
      "metadata": {
        "id": "8kQwVS9IMY7c"
      },
      "execution_count": 59,
      "outputs": []
    },
    {
      "cell_type": "code",
      "source": [
        "r = add(5,6)\n",
        "r"
      ],
      "metadata": {
        "colab": {
          "base_uri": "https://localhost:8080/"
        },
        "id": "_nbF0Lp7Mbjd",
        "outputId": "7d34dd72-8bb6-4873-ffa6-d5ed7c50c844"
      },
      "execution_count": 60,
      "outputs": [
        {
          "output_type": "execute_result",
          "data": {
            "text/plain": [
              "11"
            ]
          },
          "metadata": {},
          "execution_count": 60
        }
      ]
    },
    {
      "cell_type": "code",
      "source": [
        "def add(x,y):\n",
        "  print(\"x = \",x)\n",
        "  print(\"y = \",y)\n",
        "  s = x+y\n",
        "  return s"
      ],
      "metadata": {
        "id": "a4jwaxOrNkcv"
      },
      "execution_count": 62,
      "outputs": []
    },
    {
      "cell_type": "code",
      "source": [
        "add(10,20)"
      ],
      "metadata": {
        "colab": {
          "base_uri": "https://localhost:8080/"
        },
        "id": "1uCoLbt6Nkzk",
        "outputId": "62e7fb1e-2fcf-461a-8081-0bbe3f0f651d"
      },
      "execution_count": 63,
      "outputs": [
        {
          "output_type": "stream",
          "name": "stdout",
          "text": [
            "x =  10\n",
            "y =  20\n"
          ]
        },
        {
          "output_type": "execute_result",
          "data": {
            "text/plain": [
              "30"
            ]
          },
          "metadata": {},
          "execution_count": 63
        }
      ]
    },
    {
      "cell_type": "code",
      "source": [
        "add(50,10) # Positional Arguments"
      ],
      "metadata": {
        "colab": {
          "base_uri": "https://localhost:8080/"
        },
        "id": "cuNx9IqQN3ul",
        "outputId": "aac0a08a-1d80-42f1-ada4-4d80262a4e27"
      },
      "execution_count": 64,
      "outputs": [
        {
          "output_type": "stream",
          "name": "stdout",
          "text": [
            "x =  50\n",
            "y =  10\n"
          ]
        },
        {
          "output_type": "execute_result",
          "data": {
            "text/plain": [
              "60"
            ]
          },
          "metadata": {},
          "execution_count": 64
        }
      ]
    },
    {
      "cell_type": "code",
      "source": [
        "add(y = 50,x = 10) # Keyworded arguments"
      ],
      "metadata": {
        "colab": {
          "base_uri": "https://localhost:8080/"
        },
        "id": "45n6ypSBOD9z",
        "outputId": "0200615c-da0e-4cde-eb28-b8b15d154bbe"
      },
      "execution_count": 65,
      "outputs": [
        {
          "output_type": "stream",
          "name": "stdout",
          "text": [
            "x =  10\n",
            "y =  50\n"
          ]
        },
        {
          "output_type": "execute_result",
          "data": {
            "text/plain": [
              "60"
            ]
          },
          "metadata": {},
          "execution_count": 65
        }
      ]
    },
    {
      "cell_type": "code",
      "source": [
        "add(y = 50)"
      ],
      "metadata": {
        "colab": {
          "base_uri": "https://localhost:8080/",
          "height": 170
        },
        "id": "2wD6CXRyOVp_",
        "outputId": "494fbe7e-0333-4a0d-f776-bddd5552262e"
      },
      "execution_count": 66,
      "outputs": [
        {
          "output_type": "error",
          "ename": "TypeError",
          "evalue": "ignored",
          "traceback": [
            "\u001b[0;31m---------------------------------------------------------------------------\u001b[0m",
            "\u001b[0;31mTypeError\u001b[0m                                 Traceback (most recent call last)",
            "\u001b[0;32m<ipython-input-66-082b49f24aac>\u001b[0m in \u001b[0;36m<module>\u001b[0;34m()\u001b[0m\n\u001b[0;32m----> 1\u001b[0;31m \u001b[0madd\u001b[0m\u001b[0;34m(\u001b[0m\u001b[0my\u001b[0m \u001b[0;34m=\u001b[0m \u001b[0;36m50\u001b[0m\u001b[0;34m)\u001b[0m\u001b[0;34m\u001b[0m\u001b[0;34m\u001b[0m\u001b[0m\n\u001b[0m",
            "\u001b[0;31mTypeError\u001b[0m: add() missing 1 required positional argument: 'x'"
          ]
        }
      ]
    },
    {
      "cell_type": "code",
      "source": [
        "# Default arguments\n",
        "def add(x,y=100):\n",
        "  print(\"x = \",x)\n",
        "  print(\"y = \",y)\n",
        "  s = x+y\n",
        "  return s"
      ],
      "metadata": {
        "id": "umfmbrG9I2Lp"
      },
      "execution_count": 67,
      "outputs": []
    },
    {
      "cell_type": "code",
      "source": [
        "add(x=10)"
      ],
      "metadata": {
        "colab": {
          "base_uri": "https://localhost:8080/"
        },
        "id": "8DVoI_RiOvRj",
        "outputId": "25cc163d-c5b2-4d4a-c0be-9be16e4f898d"
      },
      "execution_count": 68,
      "outputs": [
        {
          "output_type": "stream",
          "name": "stdout",
          "text": [
            "x =  10\n",
            "y =  100\n"
          ]
        },
        {
          "output_type": "execute_result",
          "data": {
            "text/plain": [
              "110"
            ]
          },
          "metadata": {},
          "execution_count": 68
        }
      ]
    },
    {
      "cell_type": "code",
      "source": [
        "add(20)"
      ],
      "metadata": {
        "colab": {
          "base_uri": "https://localhost:8080/"
        },
        "id": "Vl8Ntcz_Oxvm",
        "outputId": "9be6f548-c65a-44b8-e721-7bac3eb3137f"
      },
      "execution_count": 69,
      "outputs": [
        {
          "output_type": "stream",
          "name": "stdout",
          "text": [
            "x =  20\n",
            "y =  100\n"
          ]
        },
        {
          "output_type": "execute_result",
          "data": {
            "text/plain": [
              "120"
            ]
          },
          "metadata": {},
          "execution_count": 69
        }
      ]
    },
    {
      "cell_type": "code",
      "source": [
        "add(20,199)"
      ],
      "metadata": {
        "colab": {
          "base_uri": "https://localhost:8080/"
        },
        "id": "PocfMfG2O4qJ",
        "outputId": "082bdd16-2d3f-499c-e8b7-a9c21748a725"
      },
      "execution_count": 70,
      "outputs": [
        {
          "output_type": "stream",
          "name": "stdout",
          "text": [
            "x =  20\n",
            "y =  199\n"
          ]
        },
        {
          "output_type": "execute_result",
          "data": {
            "text/plain": [
              "219"
            ]
          },
          "metadata": {},
          "execution_count": 70
        }
      ]
    },
    {
      "cell_type": "markdown",
      "source": [
        "# Lambda"
      ],
      "metadata": {
        "id": "yHsNnqKKRb71"
      }
    },
    {
      "cell_type": "code",
      "source": [
        "f = lambda x,y:x+y"
      ],
      "metadata": {
        "id": "dlt8sGEPRcog"
      },
      "execution_count": 71,
      "outputs": []
    },
    {
      "cell_type": "code",
      "source": [
        "f(10,3)"
      ],
      "metadata": {
        "colab": {
          "base_uri": "https://localhost:8080/"
        },
        "id": "y0L_kvnRRkZd",
        "outputId": "480d2d71-0f9e-4d8a-f1f6-7e3b752d2519"
      },
      "execution_count": 72,
      "outputs": [
        {
          "output_type": "execute_result",
          "data": {
            "text/plain": [
              "13"
            ]
          },
          "metadata": {},
          "execution_count": 72
        }
      ]
    },
    {
      "cell_type": "code",
      "source": [
        "#Variable Validity"
      ],
      "metadata": {
        "id": "7HKZCqTGRpGr"
      },
      "execution_count": 73,
      "outputs": []
    },
    {
      "cell_type": "code",
      "source": [
        "# Default arguments\n",
        "\n",
        "A = 100\n",
        "def add(x,y=100):\n",
        "  print(\"x = \",x)\n",
        "  print(\"y = \",y)\n",
        "  s = x+y # Local\n",
        "  return s"
      ],
      "metadata": {
        "id": "55l6fZ71R2NG"
      },
      "execution_count": 77,
      "outputs": []
    },
    {
      "cell_type": "code",
      "source": [
        "add(5,15)"
      ],
      "metadata": {
        "colab": {
          "base_uri": "https://localhost:8080/"
        },
        "id": "NctVTy6gR5ei",
        "outputId": "7e68bde7-0683-4ee8-ca7a-bb3c1d24c471"
      },
      "execution_count": 78,
      "outputs": [
        {
          "output_type": "stream",
          "name": "stdout",
          "text": [
            "x =  5\n",
            "y =  15\n"
          ]
        },
        {
          "output_type": "execute_result",
          "data": {
            "text/plain": [
              "20"
            ]
          },
          "metadata": {},
          "execution_count": 78
        }
      ]
    },
    {
      "cell_type": "code",
      "source": [
        "print(s) #local"
      ],
      "metadata": {
        "colab": {
          "base_uri": "https://localhost:8080/",
          "height": 170
        },
        "id": "3vIL6gZnR9GR",
        "outputId": "5040d36e-8fb3-43f9-9f99-671822fc571b"
      },
      "execution_count": 79,
      "outputs": [
        {
          "output_type": "error",
          "ename": "NameError",
          "evalue": "ignored",
          "traceback": [
            "\u001b[0;31m---------------------------------------------------------------------------\u001b[0m",
            "\u001b[0;31mNameError\u001b[0m                                 Traceback (most recent call last)",
            "\u001b[0;32m<ipython-input-79-0ff1b7208845>\u001b[0m in \u001b[0;36m<module>\u001b[0;34m()\u001b[0m\n\u001b[0;32m----> 1\u001b[0;31m \u001b[0mprint\u001b[0m\u001b[0;34m(\u001b[0m\u001b[0ms\u001b[0m\u001b[0;34m)\u001b[0m\u001b[0;34m\u001b[0m\u001b[0;34m\u001b[0m\u001b[0m\n\u001b[0m",
            "\u001b[0;31mNameError\u001b[0m: name 's' is not defined"
          ]
        }
      ]
    },
    {
      "cell_type": "code",
      "source": [
        "print(A)"
      ],
      "metadata": {
        "colab": {
          "base_uri": "https://localhost:8080/"
        },
        "id": "3iNIF-j2SAjA",
        "outputId": "ed75fc8c-4595-4f32-af2c-a6534dbb55f6"
      },
      "execution_count": 80,
      "outputs": [
        {
          "output_type": "stream",
          "name": "stdout",
          "text": [
            "100\n"
          ]
        }
      ]
    },
    {
      "cell_type": "code",
      "source": [
        ""
      ],
      "metadata": {
        "id": "d-Wh0uOCSOhm"
      },
      "execution_count": null,
      "outputs": []
    }
  ]
}